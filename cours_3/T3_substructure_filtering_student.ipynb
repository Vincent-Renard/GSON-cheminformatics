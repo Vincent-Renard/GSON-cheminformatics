{
 "cells": [
  {
   "cell_type": "markdown",
   "metadata": {},
   "source": [
    "# Talktorial 3\n",
    "\n",
    "# Molecular filtering: unwanted substructures\n",
    "\n",
    "#### Developed in the CADD seminars 2017 and 2018, AG Volkamer, Charité/FU Berlin \n",
    "\n",
    "Maximilian Driller and  Sandra Krüger"
   ]
  },
  {
   "cell_type": "markdown",
   "metadata": {},
   "source": [
    "## Aim of this talktorial\n",
    "\n",
    "There are some substructures we prefer not to enclose into our screening library. In this talktorial, we learn about different types of such unwanted substructures and how to find and highlight them with RDKit.\n",
    "\n",
    "## Learning goals\n",
    "\n",
    "### Theory\n",
    "\n",
    "* What are unwanted substructures?\n",
    "* Pan Assay Interference Compounds (PAINS)  \n",
    "\n",
    "### Practical\n",
    "\n",
    "* Read a set of compounds from ChEMBL database (prepared in **talktorial 2**)\n",
    "* Filter out unwanted substructures as implemented in RDKit\n",
    "* Provide your own list of unwanted substructures and filter your data based on them\n",
    "* Search and highlight substructures\n",
    "\n",
    "## References\n",
    "\n",
    "* Brenk et al.: \"Lessons learnt from assembling screening libraries for drug discovery for neglected diseases\" <i>Chem. Med. Chem.</i> (2008), <b>3</b>,435-444 (https://onlinelibrary.wiley.com/doi/full/10.1002/cmdc.200700139)\n",
    "* Brenk et al.: SMARTS definitions of unwanted groups (Table 1 of the Supporting\n",
    "  information of <i>Chem. Med. Chem.</i> (2008), <b>3</b>,435-444 (https://onlinelibrary.wiley.com/doi/full/10.1002/cmdc.200700139)\n",
    "* Baell et al.: \"New substructure filters for removal of Pan Assay Interference Compounds (PAINS) from screening libraries and for their exclusion in bioassays\" <i>J. Med. Chem.</i> (2010), <b>53(7)</b>,2719-2740 (https://pubs.acs.org/doi/abs/10.1021/jm901137j)\n",
    "* Conversion of PAINS format from SLN (Baell et al. publication) to SMARTS by Rajarshi Guha: http://blog.rguha.net/?p=850; SMARTS that are used in the RDKit are the ones curated by Greg Landrum from Rajarshi Guha's KNIME workflow: http://rdkit.blogspot.com/2015/08/curating-pains-filters.html\n",
    "* https://en.wikipedia.org/wiki/Pan-assay_interference_compounds\n",
    "* TDT -Tutorial2014 - (https://github.com/sriniker/TDT-tutorial-2014/blob/master/TDT_challenge_tutorial.ipynb)"
   ]
  },
  {
   "cell_type": "markdown",
   "metadata": {},
   "source": [
    "_____________________________________________________________________________________________________________________\n",
    "\n",
    "\n",
    "## Theory\n",
    "\n",
    "### Unwanted substructures\n",
    "\n",
    "Substructures can be unfavorable, e.g. because they are toxic or reactive, due to unfavorable pharmacokinetic properties, or because they likely interfere with certain assays.\n",
    "Nowadays, drug discovery often involves high throughput screening ([HTS wikipedia](https://en.wikipedia.org/wiki/High-throughput_screening)). Filtering unwanted substructures can support assembling more efficient screening libraries. Hence, reducing a library before screening can save time and resources. \n",
    "\n",
    "Brenk *et al.* ([<i>Chem. Med. Chem.</i> (2008), <b>3</b>,435-444](https://onlinelibrary.wiley.com/doi/full/10.1002/cmdc.200700139)) have constructed a list of unfavorable substructures to filter their libraries used to screen for compounds to treat neglected diseases. \n",
    "Examples of such unwanted features are nitro groups (mutagenic), sulfates and phosphates (likely resulting in unfavorable pharmacokinetic properties), 2-halopyridines and thiols (reactive). \n",
    "\n",
    "This list of undesired substructures was published in the above mentioned paper and will be used in the practical part of this talktorial."
   ]
  },
  {
   "cell_type": "markdown",
   "metadata": {},
   "source": [
    "### Pan Assay Interference Compounds (PAINS)\n",
    "\n",
    "#### General information\n",
    "PAINS ([PAINS wikipedia](https://en.wikipedia.org/wiki/Pan-assay_interference_compounds)) are compounds that often occur as hits in HTS even though they actually are false positives. PAINS tend to react unspecifically with numerous targets rather than one specific target. Apparent binding in various assays and against a range of proteins is usually due to unspecific binding or interaction with assay components.\n",
    "[![PAINS](./images/PAINS_Figure.jpeg)](https://commons.wikimedia.org/wiki/File:PAINS_Figure.tif)\n",
    "    <div align=\"center\">Figure 1: Specific and unspecific binding in the context of Pan Assay Interference Compounds. Figure is taken from [wikipedia](https://commons.wikimedia.org/wiki/File:PAINS_Figure.tif). </div>\n",
    "    \n",
    "![PAINS](./images/PAINS_Figure2.jpeg)\n",
    "    <div align=\"center\">Figure 2: The usual suspects. Figure taken from [Baell, J., Walters, M. Chemistry: Chemical con artists foil drug discovery. Nature 513, 481–483 (2014) doi:10.1038/513481a](https://www.nature.com/articles/513481a). </div>"
   ]
  },
  {
   "cell_type": "markdown",
   "metadata": {},
   "source": [
    "#### Filtering in the paper of Baell et al. \n",
    "\n",
    "Baell *et al.* ([<i>J. Med. Chem.</i> (2010), <b>53(7)</b>,2719-2740](https://pubs.acs.org/doi/abs/10.1021/jm901137j)) focused on substructures interfering in assay signaling. They described substructures which can help to identify such PAINS and provided a list which can be used for substructure filtering."
   ]
  },
  {
   "cell_type": "markdown",
   "metadata": {},
   "source": [
    "## Practical\n",
    "\n",
    "### Load and visualize data"
   ]
  },
  {
   "cell_type": "markdown",
   "metadata": {},
   "source": [
    "First, we import the required libraries, load our filtered dataset from **talktorial T2**, and draw the first molecules."
   ]
  },
  {
   "cell_type": "code",
   "execution_count": null,
   "metadata": {},
   "outputs": [],
   "source": [
    "import pandas\n",
    "from rdkit import Chem\n",
    "from rdkit.Chem.Draw import IPythonConsole\n",
    "from rdkit.Chem import rdFMCS\n",
    "from rdkit.Chem import AllChem\n",
    "from rdkit.Chem import Descriptors\n",
    "from rdkit.Chem import Draw\n",
    "from rdkit import DataStructs\n",
    "from rdkit.Chem import PandasTools\n",
    "import matplotlib.pyplot as plt"
   ]
  },
  {
   "cell_type": "code",
   "execution_count": null,
   "metadata": {
    "scrolled": true
   },
   "outputs": [],
   "source": [
    "filteredData = pandas.read_csv(\"../data/T2/EGFR_compounds_lipinski.csv\", delimiter=\";\", index_col=0)\n",
    "filteredData.drop(['HBD','HBA','MW','LogP'], inplace=True, axis=1) # Drop unnecessary information\n",
    "print ('Dataframe shape: ', filteredData.shape) # Print dimension of the dataframe\n",
    "filteredData.head(5)"
   ]
  },
  {
   "cell_type": "code",
   "execution_count": null,
   "metadata": {
    "scrolled": true
   },
   "outputs": [],
   "source": [
    "PandasTools.AddMoleculeColumnToFrame(filteredData, smilesCol='smiles') # Add molecule column\n",
    "\n",
    "## Dessiner les 20 premières molécules de filteredData, legender avec la colone molecule_chembl_id\n"
   ]
  },
  {
   "cell_type": "markdown",
   "metadata": {},
   "source": [
    "### Filtering for PAINS using RDKit\n",
    "\n",
    "The PAINS filter is already implemented in RDKit ([RDKit Documentation](http://rdkit.org/docs/source/rdkit.Chem.rdfiltercatalog.html)), let's learn how it can be used."
   ]
  },
  {
   "cell_type": "code",
   "execution_count": null,
   "metadata": {},
   "outputs": [],
   "source": [
    "from rdkit.Chem.FilterCatalog import *\n",
    "params = FilterCatalogParams()\n",
    "# Build a catalog from all PAINS (A, B and C)\n",
    "params.AddCatalog(FilterCatalogParams.FilterCatalogs.PAINS)\n",
    "catalog = FilterCatalog(params)"
   ]
  },
  {
   "cell_type": "code",
   "execution_count": null,
   "metadata": {
    "scrolled": false
   },
   "outputs": [],
   "source": [
    "# Create empty dataframes for filtered data\n",
    "rdkit_highLightFramePAINS = pandas.DataFrame(columns=('CompID', 'CompMol', 'unwantedID'))\n",
    "rdkit_noPAINS = pandas.DataFrame(columns=('ChEMBL_ID', 'smiles','pIC50'))\n",
    "rdkit_withPAINS = pandas.DataFrame(columns=('ChEMBL_ID', 'smiles', 'pIC50','unwantedID'))\n",
    "\n",
    "# For index and row in the filtered df\n",
    "for i,row in filteredData.iterrows():\n",
    "    curMol = Chem.MolFromSmiles(row.smiles) # Current molecule\n",
    "    match = False # Set match to false\n",
    "    rdkit_PAINSList = []\n",
    "    # Get the first match\n",
    "    entry = catalog.GetFirstMatch(curMol)\n",
    "    \n",
    "    if entry!=None:\n",
    "        # Add name of current unwanted subsftructure to list\n",
    "        rdkit_PAINSList.append(entry.GetDescription().capitalize())\n",
    "        # Add relevant matching information to dataframe\n",
    "        rdkit_highLightFramePAINS.loc[len(rdkit_highLightFramePAINS)] = [row.molecule_chembl_id, curMol,\n",
    "        entry.GetDescription().capitalize()]\n",
    "        match = True\n",
    "    if not match:\n",
    "        # Add to frame of PAINS free compounds\n",
    "        rdkit_noPAINS.loc[len(rdkit_noPAINS)] = [row.molecule_chembl_id, row.smiles, row.pIC50]\n",
    "    else: \n",
    "        # Add to frame of compounds that contain PAINS\n",
    "        # Put the relevant information in the dataframe with the unwanted substructures\n",
    "        rdkit_withPAINS.loc[len(rdkit_withPAINS)] = [row.molecule_chembl_id, row.smiles, row.pIC50, entry.GetDescription().capitalize()]\n",
    "\n",
    "print(\"Number of compounds with PAINS: %i\"%(len(rdkit_withPAINS)))\n",
    "print(\"Number of compounds without PAINS: %i (=remaining compounds)\"%(len(rdkit_noPAINS)))\n",
    "\n",
    "rdkit_highLightFramePAINS.head(10)"
   ]
  },
  {
   "cell_type": "markdown",
   "metadata": {},
   "source": [
    "### Filtering for unwanted/toxic substructures (Brenk list)\n",
    "\n",
    "Some lists of unwanted substructures, like PAINS, are already implemented in RDKit. However, it is also possible to use an external list and get the substructure matches. \n",
    "Here, we use the list provided in the supporting information by Brenk et al. ([<i>Chem. Med. Chem.</i> (2008), <b>3</b>,435-444](https://onlinelibrary.wiley.com/doi/full/10.1002/cmdc.200700139)).\n",
    "\n",
    "Note, we downloaded the data and stored it as csv file in the data folder (the format is name-space-SMARTS). \n",
    "First, we load the data."
   ]
  },
  {
   "cell_type": "code",
   "execution_count": null,
   "metadata": {},
   "outputs": [],
   "source": [
    "unwantedSubs = []\n",
    "unwantedNames = []\n",
    "\n",
    "## lire le fichier \"unwantedSubstructures.csv\", \n",
    "## stocker les molecules et leur nom dans les listes unwantedSubs et unwantedNames\n",
    "\n",
    "## faire une boucle pour lire le fichier \"unwantedSubstructures.csv\" ligne par ligne\n",
    "\n",
    "    ## ignorer le header\n",
    "\n",
    "    ## diviser chaque ligne par le pattern \" \" (on obtient une liste contenant le nom de la molécule et le smarts)\n",
    "\n",
    "    ## générer les molécules à partir des smarts en utilisant Chem.MolFromSmarts\n",
    "\n",
    "    ## stocker le nom dans la variable name\n",
    "\n",
    "    ## rajouter name à la liste unwantedNames\n",
    "\n",
    "    ## rajouter la molecule à la liste unwantedSubs\n",
    "\n",
    "print(\"Number of unwanted substructures in list =\", len(unwantedSubs)) # Show the number of unwanted substructures"
   ]
  },
  {
   "cell_type": "markdown",
   "metadata": {},
   "source": [
    "Let's have a look at a few substructures (not all SMARTS can be displayed, therefore we select a subset)."
   ]
  },
  {
   "cell_type": "code",
   "execution_count": null,
   "metadata": {},
   "outputs": [],
   "source": [
    "Chem.Draw.MolsToGridImage(list(unwantedSubs[2:5]), subImgSize=(200, 300), legends=unwantedNames[2:5])"
   ]
  },
  {
   "cell_type": "markdown",
   "metadata": {},
   "source": [
    "Search our filtered dataframe for matches with these unwanted substructures."
   ]
  },
  {
   "cell_type": "code",
   "execution_count": null,
   "metadata": {},
   "outputs": [],
   "source": [
    "# Creating dataFrames for filtered data\n",
    "highLightFrameUNW = pandas.DataFrame(columns=('CompID', 'CompMol', 'unwantedID', 'unwSubstr'))\n",
    "noUnwanted = pandas.DataFrame(columns=('ChEMBL_ID', 'smiles','pIC50'))\n",
    "withUnwanted = pandas.DataFrame(columns=('ChEMBL_ID', 'smiles', 'pIC50','unwantedID'))\n",
    "molsToDraw = []\n",
    "\n",
    "## For index and row in the filtered df\n",
    "    ## stocker la molecule dans curMol\n",
    "    ## set flag to false\n",
    "    ## créer la liste unwantedList\n",
    "    ## ajouter curMol à molsToDraw\n",
    "    \n",
    "    ## For index and unwSub in unwantedSubs\n",
    "        ## if current molecule has the unwanted substructure\n",
    "            ## set flag to false\n",
    "            ## ajouter name of unwanted substructure (unwantedNames) to unwantedList\n",
    "            ## ajouter molecule_chembl_id, curMol, the unwanted substructure et unwSub à highLightFrameUNW\n",
    "    ## si match\n",
    "        ## ajouter molecule_chembl_id, smiles et pIC50 à noUnwanted\n",
    "\n",
    "    ## sinon\n",
    "        ## ajouter molecule_chembl_id, smiles, pIC50 et unwantedList à withUnwanted \n",
    "\n",
    "print(\"Number of compounds with unwanted substructures: %i\"%(len(withUnwanted)))\n",
    "print(\"Number of compounds without unwanted substructures: %i (=remaining compounds)\"%(len(noUnwanted)))"
   ]
  },
  {
   "cell_type": "code",
   "execution_count": null,
   "metadata": {},
   "outputs": [],
   "source": [
    "highLightFrameUNW.head(4)"
   ]
  },
  {
   "cell_type": "markdown",
   "metadata": {},
   "source": [
    "The substructures can also be highlighted, directly within the molecule."
   ]
  },
  {
   "cell_type": "code",
   "execution_count": null,
   "metadata": {},
   "outputs": [],
   "source": [
    "first_highLightFrameUNW = highLightFrameUNW.head(8) # Subset of the first 8 entries in the list\n",
    "\n",
    "# Draw molecules and highlight the unwanted substructure \n",
    "Draw.MolsToGridImage(list(first_highLightFrameUNW[\"CompMol\"]), subImgSize=(400,300),\n",
    "    molsPerRow=2, highlightAtomLists=\n",
    "    [m.GetSubstructMatch(first_highLightFrameUNW[\"unwSubstr\"][i]) for i,m in enumerate(first_highLightFrameUNW[\"CompMol\"])], \n",
    "    legends=list(first_highLightFrameUNW[\"CompID\"]+\": \"+first_highLightFrameUNW[\"unwantedID\"]))"
   ]
  },
  {
   "cell_type": "markdown",
   "metadata": {},
   "source": [
    "We save the example as SVG file."
   ]
  },
  {
   "cell_type": "code",
   "execution_count": null,
   "metadata": {},
   "outputs": [],
   "source": [
    "# Save image to file\n",
    "img = Draw.MolsToGridImage(list(first_highLightFrameUNW[\"CompMol\"]), subImgSize=(400,300),\n",
    "    molsPerRow=3, highlightAtomLists=\n",
    "    [m.GetSubstructMatch(first_highLightFrameUNW[\"unwSubstr\"][i]) for i,m in enumerate(first_highLightFrameUNW[\"CompMol\"])], \n",
    "    legends=list(first_highLightFrameUNW[\"unwantedID\"]), useSVG=True)\n",
    "\n",
    "# Get SVG data\n",
    "molsvg = img.data\n",
    "\n",
    "# Replace non-transparent to transparent background\n",
    "molsvg = molsvg.replace(\"opacity:1.0\", \"opacity:0.0\");\n",
    "molsvg = molsvg.replace(\"12px\", \"24px\");\n",
    "\n",
    "# Save altered SVG data to file\n",
    "f = open(\"../data/T3/substructures.svg\", \"w\")\n",
    "f.write(molsvg)\n",
    "f.close()"
   ]
  },
  {
   "cell_type": "markdown",
   "metadata": {},
   "source": [
    "The lists of compounds with and without unwanted substructures are saved."
   ]
  },
  {
   "cell_type": "code",
   "execution_count": null,
   "metadata": {},
   "outputs": [],
   "source": [
    "# Write the compounds with unwanted substructures in a csv file\n",
    "withUnwanted.to_csv(\"../data/T3/EGFR_compounds_lipinski_noPAINS.csv\", sep=',') \n",
    "\n",
    "# Write the compounds without unwanted substructures in a csv file\n",
    "noUnwanted.to_csv(\"../data/T3/EGFR_compounds_lipinski_noPAINS_noBrenk.csv\", sep=',') \n",
    "\n",
    "# Show the head of the csv file with the compounds with the unwanted substructures i a csv file\n",
    "noUnwanted.head() "
   ]
  },
  {
   "cell_type": "markdown",
   "metadata": {},
   "source": [
    "The unwanted substructures found are further analyzed."
   ]
  },
  {
   "cell_type": "code",
   "execution_count": null,
   "metadata": {},
   "outputs": [],
   "source": [
    "## Compter les composés non-voulus les plus fréquent et stocker les dans un dictionaire\n",
    "## Utiliser la colone unwantedID du dataset highLightFrameUNW\n",
    "## Structure de unwCounts : dictionaire avec unwantedID en tant que clé, leur valeurs associées sont le nombre d'occurences et la molecule\n",
    "## E.g. ('acyclic-C=C-O', [7, <rdkit.Chem.rdchem.Mol object at 0x7fa58fc06710>])\n",
    "unwCounts = {}\n"
   ]
  },
  {
   "cell_type": "code",
   "execution_count": null,
   "metadata": {},
   "outputs": [],
   "source": [
    "frequentUNW = []\n",
    "frequentUNWNames = []\n",
    "\n",
    "# Sort the dictionary by frequencies of substructures\n",
    "for key, value in sorted(unwCounts.items(), key=lambda kv: kv[1][0], reverse=True):\n",
    "    frequentUNW.append(value[1]) # Substructure\n",
    "    frequentUNWNames.append(key)"
   ]
  },
  {
   "cell_type": "markdown",
   "metadata": {},
   "source": [
    "Draw the eight frequent substructures."
   ]
  },
  {
   "cell_type": "code",
   "execution_count": null,
   "metadata": {},
   "outputs": [],
   "source": [
    "## Dessiner les 8 plus frequentes substructures non-voulue\n",
    "## Utiliser frequentUNW et legender avec frequentUNWNames"
   ]
  },
  {
   "cell_type": "markdown",
   "metadata": {},
   "source": [
    "## Discussion\n",
    "In this talktorial, we learned two ways to perform a search for unwanted substructures: \n",
    "* Once with the class `FilterCatalog` which is already implemented in RDKit, and \n",
    "* Once with an external list and the `HasSubstructMatch()` function from RDKit.\n",
    "\n",
    "Actually, PAINS could also be implemented via substructure search. And also the list by Brenk et al. is already in RDKit. Further lists that are implemented can be found in the ([RDKit Documentation](http://rdkit.org/docs/source/rdkit.Chem.rdfiltercatalog.html)). \n",
    "\n",
    "So far, we have been using the function `HasSubstructMatch()` which only yields one match per compound. With [`GetSubstructMatches()`](http://www.rdkit.org/Python_Docs/rdkit.Chem.rdchem.Mol-class.html#GetSubstructMatches), we also have the option to find all substructures matching one compound.\n",
    "Similarly for PAINS: We have only looked at the first match `GetFirstMatch()` per molecule. If we want to filter out all PAINS this is enough. However, we could also use `GetMatches()` in order to see all critical substructures of a molecule. Since we did not take all matches per molecule into account, we cannot state that the last substructures we drew, are actually the most frequent ones. However, they definitely do occur very often.\n",
    "\n",
    "Detected substructures can be handled in two different ways. \n",
    "* Either, the substructure search is applied as a filter and the compounds are excluded from further testing to reduce the money and time. \n",
    "* Or, they can be used as warnings. Molecules containing unwanted substructures can be flagged. Expert's (e.g. chemists, toxicologists...) eyes might be able to judge from their experience. If the respective substructures are less critical, they might still include them for screening.\n",
    "\n",
    "We will not filter out the unwanted substructures as we do not want to lose too many compounds for machine learning. Also, the substructure filters could still be applied in a later stage before actual experimental screening. There's the possibility to set alert flags, so the information about unfavorable substructures (according to any list, e.g. PAINS or Brenk) could be kept and considered later."
   ]
  }
 ],
 "metadata": {
  "kernelspec": {
   "display_name": "Python 3",
   "language": "python",
   "name": "python3"
  },
  "language_info": {
   "codemirror_mode": {
    "name": "ipython",
    "version": 3
   },
   "file_extension": ".py",
   "mimetype": "text/x-python",
   "name": "python",
   "nbconvert_exporter": "python",
   "pygments_lexer": "ipython3",
   "version": "3.6.7"
  }
 },
 "nbformat": 4,
 "nbformat_minor": 2
}
